Project: Investigate a Dataset - No Show Appointments
Table of Contents
Introduction
Data Wrangling
Exploratory Data Analysis
Conclusions
<a id='intro'></a>
## Introduction
​
### Dataset Description 
​
This dataset collects information from 100k medical appointments in Brazil and is focused on the question of whether or not patients show up for their appointment. A number of characteristics about the patient are included in each row. we are going to investigate this data to see the correlation between each charachter and show up for the appointment or no
​
​
### Question(s) for Analysis
##1- what is the total rate between show up or no show ?
##2- is the gender related to showing up for appointments ?
##3- is the age related to showing up for appointments ?
##4- on which days do no show occurs the most ?
##5- is there a neighborhood has higher rate of no shows than others ?
##6- is being in scholarship related to show up or no show up ?
##7- the relation between receiving sms and showing up for appointments ?
# importing neccessary  packages and Libraries :
import pandas as pd
pd.set_option('display.max_rows', 15000)
import datetime
import numpy as np
import matplotlib.pyplot as plt
import seaborn as sns
%matplotlib inline

Data Wrangling
## load data
df=pd.read_csv('Database_No_show_appointments/noshowappointments-kagglev2-may-2016.csv')
# show data info :
df.info()
<class 'pandas.core.frame.DataFrame'>
RangeIndex: 110527 entries, 0 to 110526
Data columns (total 14 columns):
PatientId         110527 non-null float64
AppointmentID     110527 non-null int64
Gender            110527 non-null object
ScheduledDay      110527 non-null object
AppointmentDay    110527 non-null object
Age               110527 non-null int64
Neighbourhood     110527 non-null object
Scholarship       110527 non-null int64
Hipertension      110527 non-null int64
Diabetes          110527 non-null int64
Alcoholism        110527 non-null int64
Handcap           110527 non-null int64
SMS_received      110527 non-null int64
No-show           110527 non-null object
dtypes: float64(1), int64(8), object(5)
memory usage: 11.8+ MB
# show the data shape :
df.shape
(110527, 14)
# show the first five rows of data :
df.head()
PatientId	AppointmentID	Gender	ScheduledDay	AppointmentDay	Age	Neighbourhood	Scholarship	Hipertension	Diabetes	Alcoholism	Handcap	SMS_received	No-show
0	2.987250e+13	5642903	F	2016-04-29T18:38:08Z	2016-04-29T00:00:00Z	62	JARDIM DA PENHA	0	1	0	0	0	0	No
1	5.589978e+14	5642503	M	2016-04-29T16:08:27Z	2016-04-29T00:00:00Z	56	JARDIM DA PENHA	0	0	0	0	0	0	No
2	4.262962e+12	5642549	F	2016-04-29T16:19:04Z	2016-04-29T00:00:00Z	62	MATA DA PRAIA	0	0	0	0	0	0	No
3	8.679512e+11	5642828	F	2016-04-29T17:29:31Z	2016-04-29T00:00:00Z	8	PONTAL DE CAMBURI	0	0	0	0	0	0	No
4	8.841186e+12	5642494	F	2016-04-29T16:07:23Z	2016-04-29T00:00:00Z	56	JARDIM DA PENHA	0	1	1	0	0	0	No
# show data summary :
df.describe()
PatientId	AppointmentID	Age	Scholarship	Hipertension	Diabetes	Alcoholism	Handcap	SMS_received
count	1.105270e+05	1.105270e+05	110527.000000	110527.000000	110527.000000	110527.000000	110527.000000	110527.000000	110527.000000
mean	1.474963e+14	5.675305e+06	37.088874	0.098266	0.197246	0.071865	0.030400	0.022248	0.321026
std	2.560949e+14	7.129575e+04	23.110205	0.297675	0.397921	0.258265	0.171686	0.161543	0.466873
min	3.921784e+04	5.030230e+06	-1.000000	0.000000	0.000000	0.000000	0.000000	0.000000	0.000000
25%	4.172614e+12	5.640286e+06	18.000000	0.000000	0.000000	0.000000	0.000000	0.000000	0.000000
50%	3.173184e+13	5.680573e+06	37.000000	0.000000	0.000000	0.000000	0.000000	0.000000	0.000000
75%	9.439172e+13	5.725524e+06	55.000000	0.000000	0.000000	0.000000	0.000000	0.000000	1.000000
max	9.999816e+14	5.790484e+06	115.000000	1.000000	1.000000	1.000000	1.000000	4.000000	1.000000
# check for duplicates :
df.duplicated().sum().any()
False
# check for null values :
df.isnull().sum().any()
False
# there is typos in columns names need to be edited
# there is no duplicated
# there is no null values
# schudeled day and appointment day need to be converted to datetime dtype
# there is age values that is negative (-1) it seems to be new born we will assume them as 1
# Gender column has values named "1" i have to drop them since i just want the value to be "M" or "F"
Data Cleaning
step 1 : i am going to drop PatientId and AppiontmentId columns since i don't intend to use them in my investigation

df.drop(['PatientId','AppointmentID'],axis=1,inplace=True)
step 2 : renaming columns

def rename_col ():
    df.rename(columns=lambda x: x.lower(), inplace=True)
    df.rename(columns = {'Hipertension': 'Hypertension',
                'Handcap': 'Handicap','no-show':'no_show'}, inplace = True)
rename_col()
step 3 : replace negative age value with 1

df[df['age'] <= 0] = 1
step 4 : converting No_show column values from strings ("yes","no") to ints ("0","1") for using them in groupby and ploting

df.no_show[df['no_show'] == 'Yes'] = '1'
df.no_show[df['no_show'] == 'No'] = '0'
df['no_show']=pd.to_numeric(df['no_show'])
/opt/conda/lib/python3.6/site-packages/ipykernel_launcher.py:1: SettingWithCopyWarning: 
A value is trying to be set on a copy of a slice from a DataFrame

See the caveats in the documentation: http://pandas.pydata.org/pandas-docs/stable/indexing.html#indexing-view-versus-copy
  """Entry point for launching an IPython kernel.
/opt/conda/lib/python3.6/site-packages/ipykernel_launcher.py:2: SettingWithCopyWarning: 
A value is trying to be set on a copy of a slice from a DataFrame

See the caveats in the documentation: http://pandas.pydata.org/pandas-docs/stable/indexing.html#indexing-view-versus-copy
  
step 5 : converting ScheduledDay and AppointmentDay to datetime dtype

df['scheduledday']=pd.to_datetime(df['scheduledday'])
df['appointmentday']=pd.to_datetime(df['appointmentday'])
step 6 : drop "1" values from Gender column

df.drop(df.loc[df['gender']==1].index, inplace=True)
checking for data updates :
df.info()
<class 'pandas.core.frame.DataFrame'>
Int64Index: 106987 entries, 0 to 110526
Data columns (total 12 columns):
gender            106987 non-null object
scheduledday      106987 non-null datetime64[ns]
appointmentday    106987 non-null datetime64[ns]
age               106987 non-null int64
neighbourhood     106987 non-null object
scholarship       106987 non-null int64
hipertension      106987 non-null int64
diabetes          106987 non-null int64
alcoholism        106987 non-null int64
handcap           106987 non-null int64
sms_received      106987 non-null int64
no_show           106987 non-null int64
dtypes: datetime64[ns](2), int64(8), object(2)
memory usage: 10.6+ MB
df.head(2)
gender	scheduledday	appointmentday	age	neighbourhood	scholarship	hipertension	diabetes	alcoholism	handcap	sms_received	no_show
0	F	2016-04-29 18:38:08	2016-04-29	62	JARDIM DA PENHA	0	1	0	0	0	0	0
1	M	2016-04-29 16:08:27	2016-04-29	56	JARDIM DA PENHA	0	0	0	0	0	0	0

Exploratory Data Analysis
Research Question 1 ( what is the overall rate between show up or no show ?)
labels=["no_show","show"]
colors = ['blue', 'orange']
df['no_show'].value_counts().plot(kind="pie",labels=labels,figsize=(6,6),autopct='%1.1f%%',subplots=True)
plt.title("overall rate between shows and no shows")
plt.legend();

there is a huge number of patietns that doesnot appear to their appointments

Research Question 2 is the gender related to showing up for appointments ?
# sorting No_show column
shows = df.no_show == 1
no_shows = df.no_show == 0
df.groupby('gender')['no_show'].value_counts().plot(kind= 'bar',title="relation between gender and show up");
plt.xlabel("gender")
plt.ylabel("number of shows or no_shows")
plt.legend();

i think this distribution happens for a reason that we have too many females than males so let's check :

df.gender.hist();
plt.title('how many females/males in dataset')
plt.xlabel('gender')
plt.ylabel('number of patients')
plt.legend();

thats right males are almost the half , in this case we need to use the mean :

df.groupby('gender')['no_show'].mean().plot(kind= 'bar',title="relation between gender and show up");
plt.xlabel("gender")
plt.ylabel("number of shows or no_shows")
plt.legend();

it looks like the proportion is the same

research question 3- is the age related to showing up for appointments ?
in order to simply investigate age i am going to group age to four levels ( child , teen , adult , old )

df.age.describe()
count    106987.000000
mean         38.316085
std          22.466214
min           1.000000
25%          19.000000
50%          38.000000
75%          56.000000
max         115.000000
Name: age, dtype: float64
bin_edges = [1.000000 ,19.000000 ,38.000000 ,56.000000 ,115.000000 ]
bin_names = [ 'child','teen' ,'adult' ,'old' ] 
insert a new column that contains age levels

df['age_level'] = pd.cut(df['age'], bin_edges, labels=bin_names)
df.age_level[shows].value_counts().plot(kind='bar',alpha=0.5, color= 'blue', label='show')
df.age_level[no_shows].value_counts().plot(kind='bar',alpha=0.5, color= 'orange', label='no_show')
plt.title('age levels no shows')
plt.xlabel('age level')
plt.ylabel('number of no-shows')
plt.legend();

they are in close proximity to each other so age is not a factor of no_show up for the appointment

research question 4 : on which days do no show occurs the most ?
since number of no_showing is much bigger than showing , we decided to focus on which days that no_show may happen the most and ignore the show_up data :

first we add day name column to dataset

df['appointment_day']=df["appointmentday"].dt.day_name()
df.appointment_day[no_shows].value_counts().plot(kind='barh',alpha=1,title='no shows by days');
plt.xlabel('number of no shows')
plt.ylabel('days')
plt.legend();

monday,tuesday and wednesday are the most days that no_shows occurs on them , while saturday has the least

research question 5 : is there a neighborhood has higher rate of no shows than others ?
df.neighbourhood[no_shows].value_counts().sort_values(ascending=False).head()
JARDIM CAMBURI     6154
MARIA ORTIZ        4369
RESISTÊNCIA        3360
JARDIM DA PENHA    3224
CENTRO             2590
Name: neighbourhood, dtype: int64
JARDIM CAMBURI has the most no shows rate

df.neighbourhood[no_shows].value_counts().sort_values(ascending=False).head().plot(kind="pie",figsize=(6,6),autopct='%1.1f%%',title="max neighbourhoods no_shows rate");

research question 6 : is being in scholarship related to show up or no show up ?
df.groupby('scholarship')['no_show'].value_counts()
scholarship  no_show
0            0          77069
             1          19109
1            0           8238
             1           2571
Name: no_show, dtype: int64
df.scholarship[shows].plot(kind='hist',alpha=0.5, bins=15, label='show',color="blue")
df.scholarship[no_shows].plot(kind='hist',alpha=0.5, bins=15, label='no_show',color="green")
plt.xlabel('shows and no-show')
plt.ylabel('number of show / no-show')
plt.title('no shows by scholarship')
plt.legend();

being in Scholarship negatively related with showing up for medical appointments

research question 7 : the relation between receiving sms and showing up for appointments ?
# we first select patients who received SMS
messaged=df.sms_received==1
not_messaged=df.sms_received==0
# then we see how many of patients who received SMS showed_up
df.no_show[messaged].value_counts().plot(kind="bar");
plt.title("SMS received shows")
plt.xlabel('show /no show ')
plt.ylabel('number of no shows')
plt.legend();
df.no_show[messaged].value_counts()
0    25017
1     9568
Name: no_show, dtype: int64

and see how many patients did not receive SMS showed up

df.no_show[not_messaged].value_counts().plot(kind="bar");
plt.title("SMS not_received shows")
plt.xlabel('show /no show ')
plt.ylabel('number of no shows')
plt.legend();
df.no_show[not_messaged].value_counts()
0    60290
1    12112
Name: no_show, dtype: int64


Conclusions
first of all : 20% only of 10K patients did show_up for their medical appointments this is a tiny number that need to be improved
limitations :
1- this data shows only 3 months collected data , this is a short period . data for longer time (as a whole year) must be provided to analyse how holidays and seasonality affects the dataset

2- data for weather and trrafic may be useful too !

findings :
1- the total proportion for show or no_show :

almost 80% of patients did not show up for their medical appointments and many reasons may cause this 2- is the gender related to show or no_show ?
despite we have much more females that did not show up for appointments but this was because we have a large number of females compared to males in dataset, so no gender is not a factor of showing up for appointments or no-show 3- is the age related ?
the age distribution doesn't show any clear deviation for a specific age so we can't consider age as a factor of no-shows 4- on which day(s) do no_shows happened the most :
for days : saturday has a very few number of no shows ,. monday,tuesday and wednesday have the most rate of no shows , we can notice that appiontments that scheduled lately in the week have more shows so this can be considered as a factor of no_show 5- which neighbourhood has the most no_show rate
JARDIM CAMBURI has the highest number of no_shows but this may be due to the population in the neighbourhood so i can't determine if neighbours are factor of no_shows or not 6-being in scholarship ?
of course being in scholarship affects no_shows directly and in a high rate , we can see that with being in scholarship 8k of patients did not show-up for their appointments but without being in scholarship 77k of patients did not show-up so we can consider this as a big factor of no-shows 7-receiving SMS
the number of patients that didn't show up for appointments (who didn't receive SMS ) are more than double of those who didn't show despite receiving SMS , so its clearly a factor of no-shows
